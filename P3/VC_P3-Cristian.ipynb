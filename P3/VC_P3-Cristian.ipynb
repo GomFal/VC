{
 "cells": [
  {
   "cell_type": "markdown",
   "metadata": {},
   "source": [
    "TAREA: Captura una o varias imágenes con monedas no solapadas. Tras visualizar la imagen, identifica de forma interactiva (por ejemplo haciendo clic en la imagen) una moneda de un valor determinado en la imagen (por ejemplo de 1€). Tras ello, la tarea se resuelve mostrando por pantalla el número de monedas y la cantidad de dinero presentes en la imagen. No hay restricciones sobre utilizar medidas geométricas o de color. ¿Qué problemas han observado?\n",
    "\n",
    "Nota: Para establecer la correspondencia entre píxeles y milímetros, comentar que la moneda de un euro tiene un diámetro de 23.25 mm. la de 50 céntimos de 24.35, la de 20 céntimos de 22.25, etc. \n",
    "\n",
    "Extras: Considerar que la imagen pueda contener objetos que no son monedas y/o haya solape entre las monedas. Demo en vivo."
   ]
  },
  {
   "cell_type": "markdown",
   "metadata": {},
   "source": [
    "Importación de paquetes"
   ]
  },
  {
   "cell_type": "code",
   "execution_count": 2,
   "metadata": {},
   "outputs": [],
   "source": [
    "import cv2  \n",
    "import numpy as np\n",
    "import matplotlib.pyplot as plt"
   ]
  },
  {
   "cell_type": "markdown",
   "metadata": {},
   "source": [
    "Lectura de imágenes y variables globales"
   ]
  },
  {
   "cell_type": "code",
   "execution_count": 3,
   "metadata": {},
   "outputs": [],
   "source": [
    "# Lectura de imágenes\n",
    "imagen = cv2.imread(\"Monedas.jpg\")\n",
    "imagen_p1 = cv2.imread(\"VC - Prueba-Monedas1.jpg\")\n",
    "imagen_p2 = cv2.imread(\"VC - Prueba-Monedas2.jpg\")\n",
    "\n",
    "img = cv2.cvtColor(imagen, cv2.COLOR_BGR2RGB)\n",
    "img_rgb_p1 = cv2.cvtColor(imagen_p1, cv2.COLOR_BGR2RGB)\n",
    "img_rgb_p2 = cv2.cvtColor(imagen_p2, cv2.COLOR_BGR2RGB)\n",
    "\n",
    "# Variables globales\n",
    "coins = [0] * 8\n",
    "circulos_filtrados = []\n",
    "diametros_reales = {\n",
    "    0.01: 16.25,  # Moneda de 1 céntimo\n",
    "    0.02: 18.75,  # Moneda de 2 céntimos\n",
    "    0.05: 21.25,  # Moneda de 5 céntimos\n",
    "    0.1: 19.75,   # Moneda de 10 céntimos\n",
    "    0.2: 22.25,   # Moneda de 20 céntimos\n",
    "    0.5: 24.25,   # Moneda de 50 céntimos (referencia)\n",
    "    1.0: 23.25,   # Moneda de 1 euro\n",
    "    2.0: 25.75    # Moneda de 2 euros\n",
    "}\n"
   ]
  },
  {
   "cell_type": "markdown",
   "metadata": {},
   "source": [
    "Función que cambia el fondo a blanco."
   ]
  },
  {
   "cell_type": "code",
   "execution_count": 4,
   "metadata": {},
   "outputs": [],
   "source": [
    "def convertir_fondo_a_blanco(imagen):\n",
    "     # Convertir la imagen a espacio de color HSV\n",
    "    # Convertir la imagen a espacio de color HSV para crear una máscara\n",
    "    img_hsv = cv2.cvtColor(imagen, cv2.COLOR_BGR2HSV)\n",
    "    \n",
    "    # Definir el rango de color para detectar monedas en HSV\n",
    "    lower_bound = np.array([0, 30, 40])    # Límite inferior\n",
    "    upper_bound = np.array([50, 255, 255]) # Límite superior\n",
    "    \n",
    "    # Crear una máscara que selecciona solo las monedas\n",
    "    mascara = cv2.inRange(img_hsv, lower_bound, upper_bound)\n",
    "    \n",
    "    # Realizar una operación de cierre morfológico para unir áreas y mejorar la detección de monedas\n",
    "    kernel = np.ones((5, 5), np.uint8)\n",
    "    mascara_cerrada = cv2.morphologyEx(mascara, cv2.MORPH_CLOSE, kernel)\n",
    "    \n",
    "    # Detectar contornos en la máscara\n",
    "    contornos, _ = cv2.findContours(mascara_cerrada, cv2.RETR_EXTERNAL, cv2.CHAIN_APPROX_SIMPLE)\n",
    "    \n",
    "    # Crear una máscara vacía en la que solo conservaremos los contornos grandes (monedas)\n",
    "    mascara_filtrada = np.zeros_like(mascara_cerrada)\n",
    "    \n",
    "    # Filtrar contornos por área, manteniendo solo los suficientemente grandes para ser monedas\n",
    "    for contorno in contornos:\n",
    "        area = cv2.contourArea(contorno)\n",
    "        \n",
    "        # Filtrar restos pequeños: ajustar el área mínima según sea necesario\n",
    "        if area > 1000:  # Mantener solo los contornos grandes (monedas)\n",
    "            cv2.drawContours(mascara_filtrada, [contorno], -1, 255, -1)  # Rellenar el contorno en la máscara filtrada\n",
    "\n",
    "    # Aplicar la máscara filtrada sobre la imagen original para cambiar el fondo a blanco\n",
    "    imagen_blanco_fondo = imagen.copy()\n",
    "    imagen_blanco_fondo[mascara_filtrada == 0] = [255, 255, 255]  # Asignar blanco a las áreas fuera de las monedas\n",
    "\n",
    "    return imagen_blanco_fondo"
   ]
  },
  {
   "cell_type": "markdown",
   "metadata": {},
   "source": [
    "Función que detecta círculos dentro de la imagen."
   ]
  },
  {
   "cell_type": "code",
   "execution_count": 5,
   "metadata": {},
   "outputs": [],
   "source": [
    "def detectar_circulos(imagen):\n",
    "    # Convertir la imagen a escala de grises\n",
    "    imagen_gris = cv2.cvtColor(imagen, cv2.COLOR_BGR2GRAY)\n",
    "    \n",
    "    # Aplicar desenfoque para reducir el ruido y mejorar la detección de bordes\n",
    "    imagen_gris = cv2.medianBlur(imagen_gris, 5)\n",
    "    \n",
    "    # Detectar círculos con HoughCircles\n",
    "    circulos = cv2.HoughCircles(imagen_gris, \n",
    "                                cv2.HOUGH_GRADIENT, \n",
    "                                dp=1.01, \n",
    "                                minDist=150, \n",
    "                                param1=100, \n",
    "                                param2=25, \n",
    "                                minRadius=15, \n",
    "                                maxRadius=110)\n",
    "    \n",
    "    # Lista para almacenar los círculos detectados\n",
    "    circulos_detectados = []\n",
    "    \n",
    "    if circulos is not None:\n",
    "        # Redondear y convertir los círculos detectados a enteros\n",
    "        circulos = np.round(circulos[0, :]).astype(\"int\")\n",
    "        \n",
    "        # Guardar cada círculo en la lista\n",
    "        for (x, y, r) in circulos:\n",
    "            circulos_detectados.append((x, y, r))\n",
    "    \n",
    "    return circulos_detectados"
   ]
  },
  {
   "cell_type": "markdown",
   "metadata": {},
   "source": [
    "Función que dibuja los círculos en una imagen negra."
   ]
  },
  {
   "cell_type": "code",
   "execution_count": 6,
   "metadata": {},
   "outputs": [],
   "source": [
    "def imagen_blanca_negra(img_rgb, circulos):\n",
    "    #Dibuja contornos externos rellenos en imagen vacía\n",
    "    #Imagen negra\n",
    "    img_circulos = np.zeros((img_rgb.shape[0], img_rgb.shape[1]), dtype=np.uint8)\n",
    "    \n",
    "    # Dibujar cada círculo en la imagen negra\n",
    "    for (x, y, r) in circulos:\n",
    "        # Dibujar el círculo en blanco\n",
    "        cv2.circle(img_circulos, (x, y), int(r), 255, thickness=-1)  # -1 rellena el círculo\n",
    "    \n",
    "    return img_circulos"
   ]
  },
  {
   "cell_type": "markdown",
   "metadata": {},
   "source": [
    "Funcion para filtrar los circulos."
   ]
  },
  {
   "cell_type": "code",
   "execution_count": 7,
   "metadata": {},
   "outputs": [],
   "source": [
    "def filtrar_por_color(imagen, circulos, rango_color_min, rango_color_max):\n",
    "    # Convertir la imagen a HSV\n",
    "    # Convertir la imagen a HSV\n",
    "    imagen_hsv = cv2.cvtColor(imagen, cv2.COLOR_BGR2HSV)\n",
    "    circulos_filtrados = []\n",
    "\n",
    "    for (x, y, r) in circulos:\n",
    "        # Crear una máscara para el círculo actual\n",
    "        mascara = np.zeros(imagen.shape[:2], dtype=np.uint8)\n",
    "        cv2.circle(mascara, (x, y), r, 255, -1)\n",
    "\n",
    "        # Calcular el color promedio dentro del círculo en HSV\n",
    "        color_promedio = cv2.mean(imagen_hsv, mask=mascara)[:3]\n",
    "\n",
    "        # Verificar si el color promedio está dentro del rango\n",
    "        if (rango_color_min[0] <= color_promedio[0] <= rango_color_max[0] and\n",
    "            rango_color_min[1] <= color_promedio[1] <= rango_color_max[1] and\n",
    "            rango_color_min[2] <= color_promedio[2] <= rango_color_max[2]):\n",
    "            # Si cumple con el rango de color, añadirlo a la lista filtrada\n",
    "            circulos_filtrados.append((x, y, r))\n",
    "\n",
    "    return circulos_filtrados"
   ]
  },
  {
   "cell_type": "markdown",
   "metadata": {},
   "source": [
    "Función para superponer los círculos en la imagen original. "
   ]
  },
  {
   "cell_type": "code",
   "execution_count": 8,
   "metadata": {},
   "outputs": [],
   "source": [
    "def superponer_circulos(imagen, circulos):\n",
    "    # Crear una copia de la imagen para no modificar la original\n",
    "    imagen_superpuesta = imagen.copy()\n",
    "\n",
    "    # Verificar que la lista de círculos no esté vacía\n",
    "    if not circulos:\n",
    "        print(\"No se detectaron círculos.\")\n",
    "        return imagen_superpuesta\n",
    "\n",
    "    # Dibujar los círculos sobre la imagen\n",
    "    for (x, y, r) in circulos:\n",
    "        cv2.circle(imagen_superpuesta, (x, y), r, (0, 255, 0), 2)  # Círculo verde\n",
    "        cv2.circle(imagen_superpuesta, (x, y), 2, (0, 0, 255), 3)  # Centro del círculo en rojo\n",
    "\n",
    "    return imagen_superpuesta"
   ]
  },
  {
   "cell_type": "markdown",
   "metadata": {},
   "source": [
    "Función para obtener radio de referencia."
   ]
  },
  {
   "cell_type": "code",
   "execution_count": 9,
   "metadata": {},
   "outputs": [],
   "source": [
    "def obtener_radio_referencia(circulos, punto_click):\n",
    "    for (x, y, r) in circulos:\n",
    "        distancia = np.sqrt((punto_click[0] - x) ** 2 + (punto_click[1] - y) ** 2)\n",
    "        if distancia <= r:\n",
    "            return r\n",
    "    return None"
   ]
  },
  {
   "cell_type": "markdown",
   "metadata": {},
   "source": [
    "Función para clasificar las monedas."
   ]
  },
  {
   "cell_type": "code",
   "execution_count": 10,
   "metadata": {},
   "outputs": [],
   "source": [
    "def clasificar_monedas(circulos, relacion_escala):\n",
    "\n",
    "     # Reiniciar coins antes de clasificar\n",
    "    monedas_clasificadas = [0] * 8\n",
    "\n",
    "    for (x, y, r) in circulos:\n",
    "        # Calcular el diámetro real de la moneda detectada en milímetros\n",
    "        diametro_detectado = 2 * r  # Diámetro en píxeles\n",
    "        diametro_real = diametro_detectado * relacion_escala\n",
    "\n",
    "        # Encontrar la moneda cuyo diámetro real más se acerque al diámetro calculado\n",
    "        diferencia_minima = float('inf')\n",
    "        valor_asignado = None\n",
    "        for valor, diametro in diametros_reales.items():\n",
    "            diferencia = abs(diametro_real - diametro)\n",
    "            if diferencia < diferencia_minima:\n",
    "                diferencia_minima = diferencia\n",
    "                valor_asignado = valor\n",
    "\n",
    "        # Actualizar el conteo de monedas según el valor asignado\n",
    "        if valor_asignado == 0.01:\n",
    "            monedas_clasificadas[0] += 1\n",
    "        elif valor_asignado == 0.02:\n",
    "            monedas_clasificadas[1] += 1\n",
    "        elif valor_asignado == 0.05:\n",
    "            monedas_clasificadas[2] += 1\n",
    "        elif valor_asignado == 0.1:\n",
    "            monedas_clasificadas[3] += 1\n",
    "        elif valor_asignado == 0.2:\n",
    "            monedas_clasificadas[4] += 1\n",
    "        elif valor_asignado == 0.5:\n",
    "            monedas_clasificadas[5] += 1\n",
    "        elif valor_asignado == 1.0:\n",
    "            monedas_clasificadas[6] += 1\n",
    "        elif valor_asignado == 2.0:\n",
    "            monedas_clasificadas[7] += 1\n",
    "\n",
    "    # Actualizar la lista global `coins` al finalizar la clasificación\n",
    "    global coins\n",
    "    coins = monedas_clasificadas"
   ]
  },
  {
   "cell_type": "markdown",
   "metadata": {},
   "source": [
    "moneCalculate(), función que se encarga de calcular el dinero total de la imagen"
   ]
  },
  {
   "cell_type": "code",
   "execution_count": 11,
   "metadata": {},
   "outputs": [],
   "source": [
    "def moneyCalculate():\n",
    "    return coins[0]*0.01 + coins[1]*0.02 + coins[2]*0.05 + coins[3]*0.1 + coins[4]*0.2 + coins[5]*0.5 + coins[6]*1 + coins[7]*2"
   ]
  },
  {
   "cell_type": "markdown",
   "metadata": {},
   "source": [
    "Función que muestra las monedas detectadas y la relación asociada"
   ]
  },
  {
   "cell_type": "code",
   "execution_count": 12,
   "metadata": {},
   "outputs": [],
   "source": [
    "def mostrar_resultados_deteccion(coins, relacion_escala):\n",
    "    valores_monedas = [0.01, 0.02, 0.05, 0.1, 0.2, 0.5, 1.0, 2.0]\n",
    "    nombres_monedas = [\n",
    "        \"Monedas de 1 céntimo\",\n",
    "        \"Monedas de 2 céntimos\",\n",
    "        \"Monedas de 5 céntimos\",\n",
    "        \"Monedas de 10 céntimos\",\n",
    "        \"Monedas de 20 céntimos\",\n",
    "        \"Monedas de 50 céntimos\",\n",
    "        \"Monedas de 1 euro\",\n",
    "        \"Monedas de 2 euros\"\n",
    "    ]\n",
    "    \n",
    "    print(\"Resultados de la detección de monedas:\")\n",
    "    print(\"=====================================\")\n",
    "    for i, cantidad in enumerate(coins):\n",
    "        if cantidad > 0:\n",
    "            print(f\"{nombres_monedas[i]}: {cantidad}\")\n",
    "    \n",
    "    print(\"\\nRelación de escala utilizada para la detección:\")\n",
    "    print(f\"Relación de escala (mm/píxeles): {relacion_escala:.4f}\")\n",
    "\n",
    "# Ejemplo de uso de la función para mostrar resultados\n",
    "# Supongamos que ya tenemos la relación de escala calculada y el conteo de monedas\n",
    "relacion_escala_ejemplo = 0.8  # Relación de escala de ejemplo\n",
    "coins_ejemplo = [3, 2, 1, 4, 2, 5, 0, 1]  # Ejemplo de cantidades de monedas detectadas"
   ]
  },
  {
   "cell_type": "markdown",
   "metadata": {},
   "source": [
    "Función que muestra la imagen en una ventana."
   ]
  },
  {
   "cell_type": "code",
   "execution_count": 13,
   "metadata": {},
   "outputs": [],
   "source": [
    "def mostrar_imagen(imagen, ancho=1100, alto=600):\n",
    "    def detectar_color_y_radio(event, x, y, flags, param):\n",
    "        if event == cv2.EVENT_LBUTTONDOWN:\n",
    "            # Obtener el radio de la moneda de referencia (50 céntimos)\n",
    "            radio_referencia = obtener_radio_referencia(circulos_filtrados, (x, y))\n",
    "            if radio_referencia is not None:\n",
    "                print(f\"Radio de la moneda de referencia (50 céntimos): {radio_referencia}\")\n",
    "\n",
    "                # Calcular el diámetro detectado y la relación de escala\n",
    "                diametro_detectado = 2 * radio_referencia\n",
    "                diametro_real_50c = diametros_reales[0.5]\n",
    "                relacion_escala = diametro_real_50c / diametro_detectado\n",
    "                print(f\"Relación de escala (mm/píxeles): {relacion_escala}\")\n",
    "\n",
    "                # Clasificar las monedas detectadas usando la relación de escala\n",
    "                clasificar_monedas(circulos_filtrados, relacion_escala)\n",
    "\n",
    "                # Calcular el dinero total\n",
    "                total_dinero = moneyCalculate()\n",
    "                print(f\"Total de dinero en la imagen: {total_dinero:.2f} euros\")\n",
    "                mostrar_resultados_deteccion(coins,relacion_escala)\n",
    "            else:\n",
    "                print(\"No se encontró una moneda de referencia en el punto seleccionado.\")\n",
    "\n",
    "    # Crear una ventana de tamaño fijo\n",
    "    cv2.namedWindow(\"Imagen con Fondo Blanco\", cv2.WINDOW_NORMAL)\n",
    "    cv2.resizeWindow(\"Imagen con Fondo Blanco\", ancho, alto)\n",
    "\n",
    "    # Asignar el callback para el evento de clic\n",
    "    cv2.setMouseCallback(\"Imagen con Fondo Blanco\", detectar_color_y_radio)\n",
    "\n",
    "    # Mostrar la imagen en la ventana\n",
    "    cv2.imshow(\"Imagen con Fondo Blanco\", imagen)\n",
    "    cv2.waitKey(0)\n",
    "    cv2.destroyAllWindows()"
   ]
  },
  {
   "cell_type": "markdown",
   "metadata": {},
   "source": [
    "Paso final: Resultados."
   ]
  },
  {
   "cell_type": "code",
   "execution_count": 14,
   "metadata": {},
   "outputs": [
    {
     "name": "stdout",
     "output_type": "stream",
     "text": [
      "Radio de la moneda de referencia (50 céntimos): 84\n",
      "Relación de escala (mm/píxeles): 0.14434523809523808\n",
      "Total de dinero en la imagen: 4.07 euros\n",
      "Resultados de la detección de monedas:\n",
      "=====================================\n",
      "Monedas de 1 céntimo: 3\n",
      "Monedas de 2 céntimos: 2\n",
      "Monedas de 5 céntimos: 4\n",
      "Monedas de 10 céntimos: 1\n",
      "Monedas de 20 céntimos: 1\n",
      "Monedas de 50 céntimos: 1\n",
      "Monedas de 1 euro: 1\n",
      "Monedas de 2 euros: 1\n",
      "\n",
      "Relación de escala utilizada para la detección:\n",
      "Relación de escala (mm/píxeles): 0.1443\n"
     ]
    }
   ],
   "source": [
    "imagen_con_fondo_blanco = convertir_fondo_a_blanco(imagen_p2)\n",
    "circulos_detectados  = detectar_circulos(imagen_con_fondo_blanco)\n",
    "# Filtrado doradas\n",
    "circulos_filtrados.extend(filtrar_por_color(imagen_con_fondo_blanco, \n",
    "                                            circulos_detectados, (20, 0, 0), (180, 170, 255)))\n",
    "# Filtrado cobrizas\n",
    "circulos_filtrados.extend(filtrar_por_color(imagen_con_fondo_blanco,\n",
    "                                             circulos_detectados, (9, 79, 38), (19, 220, 255)))\n",
    "imagen_con_circulos = superponer_circulos(imagen_p2, circulos_filtrados)\n",
    "\n",
    "#imagen_extrapolada = imagen_blanca_negra(img_rgb_p1,circulos_filtrados)\n",
    "\n",
    "mostrar_imagen(imagen_con_circulos)"
   ]
  }
 ],
 "metadata": {
  "kernelspec": {
   "display_name": "VC_P1",
   "language": "python",
   "name": "python3"
  },
  "language_info": {
   "codemirror_mode": {
    "name": "ipython",
    "version": 3
   },
   "file_extension": ".py",
   "mimetype": "text/x-python",
   "name": "python",
   "nbconvert_exporter": "python",
   "pygments_lexer": "ipython3",
   "version": "3.11.5"
  }
 },
 "nbformat": 4,
 "nbformat_minor": 2
}
