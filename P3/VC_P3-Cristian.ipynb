{
 "cells": [
  {
   "cell_type": "markdown",
   "metadata": {},
   "source": [
    "TAREA: Captura una o varias imágenes con monedas no solapadas. Tras visualizar la imagen, identifica de forma interactiva (por ejemplo haciendo clic en la imagen) una moneda de un valor determinado en la imagen (por ejemplo de 1€). Tras ello, la tarea se resuelve mostrando por pantalla el número de monedas y la cantidad de dinero presentes en la imagen. No hay restricciones sobre utilizar medidas geométricas o de color. ¿Qué problemas han observado?\n",
    "\n",
    "Nota: Para establecer la correspondencia entre píxeles y milímetros, comentar que la moneda de un euro tiene un diámetro de 23.25 mm. la de 50 céntimos de 24.35, la de 20 céntimos de 22.25, etc. \n",
    "\n",
    "Extras: Considerar que la imagen pueda contener objetos que no son monedas y/o haya solape entre las monedas. Demo en vivo."
   ]
  },
  {
   "cell_type": "markdown",
   "metadata": {},
   "source": [
    "Importación de paquetes"
   ]
  },
  {
   "cell_type": "code",
   "execution_count": 151,
   "metadata": {},
   "outputs": [],
   "source": [
    "import cv2  \n",
    "import numpy as np\n",
    "import matplotlib.pyplot as plt"
   ]
  },
  {
   "cell_type": "markdown",
   "metadata": {},
   "source": [
    "moneCalculate(), función que se encarga de calcular el dinero total de la imagen"
   ]
  },
  {
   "cell_type": "code",
   "execution_count": 152,
   "metadata": {},
   "outputs": [],
   "source": [
    "def moneyCalculate(coins):\n",
    "    return coins[0]*0.01 + coins[1]*0.02 + coins[2]*0.05 + coins[3]*0.1 + coins[4]*0.2 + coins[5]*0.5 + coins[6]*1 + coins[7]*2"
   ]
  },
  {
   "cell_type": "markdown",
   "metadata": {},
   "source": [
    "Lectura de imágenes y variables globales"
   ]
  },
  {
   "cell_type": "code",
   "execution_count": 153,
   "metadata": {},
   "outputs": [],
   "source": [
    "# Read pictures\n",
    "imagen = cv2.imread(\"Monedas.jpg\")\n",
    "monedas = [1,1,1,1,1,1,1,1]\n",
    "\n",
    "imagen_p1 = cv2.imread(\"VC - Prueba-Monedas1.jpg\")\n",
    "monedas_p1 = [3,3,1,1,1,1,0,0]\n",
    "\n",
    "imagen_p2 = cv2.imread(\"VC - Prueba-Monedas2.jpg\")\n",
    "monedas_p2 = [3,4,2,1,1,1,2,0]\n",
    "\n",
    "img = cv2.cvtColor(imagen, cv2.COLOR_BGR2RGB)\n",
    "img_rgb_p1 = cv2.cvtColor(imagen_p1, cv2.COLOR_BGR2RGB)\n",
    "img_rgb_p2 = cv2.cvtColor(imagen_p2, cv2.COLOR_BGR2RGB)\n",
    "\n",
    "# Global variable\n",
    "coins = [0] * 8\n",
    "circulos_filtrados = []\n",
    "diametros_reales = {\n",
    "    0.01: 16.25,  # Moneda de 1 céntimo\n",
    "    0.02: 18.75,  # Moneda de 2 céntimos\n",
    "    0.05: 21.25,  # Moneda de 5 céntimos\n",
    "    0.1: 19.75,   # Moneda de 10 céntimos\n",
    "    0.2: 22.25,   # Moneda de 20 céntimos\n",
    "    0.5: 24.25,   # Moneda de 50 céntimos (referencia)\n",
    "    1.0: 23.25,   # Moneda de 1 euro\n",
    "    2.0: 25.75    # Moneda de 2 euros\n",
    "}\n"
   ]
  },
  {
   "cell_type": "markdown",
   "metadata": {},
   "source": [
    "Función que cambia el fondo a blanco."
   ]
  },
  {
   "cell_type": "code",
   "execution_count": 154,
   "metadata": {},
   "outputs": [],
   "source": [
    "def convertir_fondo_a_blanco(imagen):\n",
    "    # Convert the image to HSV color space to create a mask\n",
    "    img_hsv = cv2.cvtColor(imagen, cv2.COLOR_BGR2HSV)\n",
    "    \n",
    "    # Define the color range to detect coins in HSV\n",
    "    lower_bound = np.array([0, 30, 40])    # Lower limit\n",
    "    upper_bound = np.array([50, 255, 255]) # Upper limit\n",
    "    \n",
    "    # Create a mask that selects only the coins\n",
    "    mascara = cv2.inRange(img_hsv, lower_bound, upper_bound)\n",
    "    \n",
    "    # Perform a morphological closing operation to join areas and improve coin detection\n",
    "    kernel = np.ones((5, 5), np.uint8)\n",
    "    mascara_cerrada = cv2.morphologyEx(mascara, cv2.MORPH_CLOSE, kernel)\n",
    "    \n",
    "    # Detect contours in the mask\n",
    "    contornos, _ = cv2.findContours(mascara_cerrada, cv2.RETR_EXTERNAL, cv2.CHAIN_APPROX_SIMPLE)\n",
    "    \n",
    "    # Create an empty mask where only large contours (coins) will be kept\n",
    "    mascara_filtrada = np.zeros_like(mascara_cerrada)\n",
    "    \n",
    "    # Filter contours by area, keeping only those large enough to be coins\n",
    "    for contorno in contornos:\n",
    "        area = cv2.contourArea(contorno)\n",
    "        \n",
    "        # Filter small fragments: adjust the minimum area as needed\n",
    "        if area > 1000:  # Keep only large contours (coins)\n",
    "            cv2.drawContours(mascara_filtrada, [contorno], -1, 255, -1)  # Fill the contour in the filtered mask\n",
    "\n",
    "    # Apply the filtered mask on the original image to change the background to white\n",
    "    imagen_blanco_fondo = imagen.copy()\n",
    "    imagen_blanco_fondo[mascara_filtrada == 0] = [255, 255, 255]  # Assign white to areas outside of the coins\n",
    "\n",
    "    return imagen_blanco_fondo"
   ]
  },
  {
   "cell_type": "markdown",
   "metadata": {},
   "source": [
    "Función que detecta círculos dentro de la imagen."
   ]
  },
  {
   "cell_type": "code",
   "execution_count": 155,
   "metadata": {},
   "outputs": [],
   "source": [
    "def detectar_circulos(imagen):\n",
    "    # Convert the image to grayscale\n",
    "    imagen_gris = cv2.cvtColor(imagen, cv2.COLOR_BGR2GRAY)\n",
    "    \n",
    "    # Apply blur to reduce noise and improve edge detection\n",
    "    imagen_gris = cv2.medianBlur(imagen_gris, 5)\n",
    "    \n",
    "    # Detect circles with HoughCircles\n",
    "    circulos = cv2.HoughCircles(imagen_gris, \n",
    "                                cv2.HOUGH_GRADIENT, \n",
    "                                dp=1.01, \n",
    "                                minDist=150, \n",
    "                                param1=100, \n",
    "                                param2=25, \n",
    "                                minRadius=15, \n",
    "                                maxRadius=110)\n",
    "    \n",
    "    # List to store the detected circles\n",
    "    circulos_detectados = []\n",
    "    \n",
    "    if circulos is not None:\n",
    "        # Round and convert detected circles to integers\n",
    "        circulos = np.round(circulos[0, :]).astype(\"int\")\n",
    "        \n",
    "        # Store each circle in the list\n",
    "        for (x, y, r) in circulos:\n",
    "            circulos_detectados.append((x, y, r))\n",
    "    \n",
    "    return circulos_detectados\n"
   ]
  },
  {
   "cell_type": "markdown",
   "metadata": {},
   "source": [
    "Funcion para filtrar los circulos."
   ]
  },
  {
   "cell_type": "code",
   "execution_count": 156,
   "metadata": {},
   "outputs": [],
   "source": [
    "def filtrar_por_color(imagen, circulos, rango_color_min, rango_color_max):\n",
    "    # Convert the image to HSV\n",
    "    imagen_hsv = cv2.cvtColor(imagen, cv2.COLOR_BGR2HSV)\n",
    "    circulos_filtrados = []\n",
    "\n",
    "    for (x, y, r) in circulos:\n",
    "        # Create a mask for the current circle\n",
    "        mascara = np.zeros(imagen.shape[:2], dtype=np.uint8)\n",
    "        cv2.circle(mascara, (x, y), r, 255, -1)\n",
    "\n",
    "        # Calculate the average color within the circle in HSV\n",
    "        color_promedio = cv2.mean(imagen_hsv, mask=mascara)[:3]\n",
    "\n",
    "        # Check if the average color is within the range\n",
    "        if (rango_color_min[0] <= color_promedio[0] <= rango_color_max[0] and\n",
    "            rango_color_min[1] <= color_promedio[1] <= rango_color_max[1] and\n",
    "            rango_color_min[2] <= color_promedio[2] <= rango_color_max[2]):\n",
    "            # If it meets the color range, add it to the filtered list\n",
    "            circulos_filtrados.append((x, y, r))\n",
    "\n",
    "    return circulos_filtrados"
   ]
  },
  {
   "cell_type": "markdown",
   "metadata": {},
   "source": [
    "Función para superponer los círculos en la imagen original. "
   ]
  },
  {
   "cell_type": "code",
   "execution_count": 157,
   "metadata": {},
   "outputs": [],
   "source": [
    "def superponer_circulos(imagen, circulos):\n",
    "    # Create a copy of the image to avoid modifying the original\n",
    "    imagen_superpuesta = imagen.copy()\n",
    "\n",
    "    # Check that the list of circles is not empty\n",
    "    if not circulos:\n",
    "        print(\"No circles were detected.\")\n",
    "        return imagen_superpuesta\n",
    "\n",
    "    # Draw the circles on the image\n",
    "    for (x, y, r) in circulos:\n",
    "        cv2.circle(imagen_superpuesta, (x, y), r, (0, 255, 0), 2)  # Green circle\n",
    "        cv2.circle(imagen_superpuesta, (x, y), 2, (0, 0, 255), 3)  # Circle center in red\n",
    "\n",
    "    return imagen_superpuesta"
   ]
  },
  {
   "cell_type": "markdown",
   "metadata": {},
   "source": [
    "Función para obtener radio de la moneda de referencia."
   ]
  },
  {
   "cell_type": "code",
   "execution_count": 158,
   "metadata": {},
   "outputs": [],
   "source": [
    "def obtener_radio_referencia(circulos, punto_click):\n",
    "    for (x, y, r) in circulos:\n",
    "        distancia = np.sqrt((punto_click[0] - x) ** 2 + (punto_click[1] - y) ** 2)\n",
    "        if distancia <= r:\n",
    "            return r\n",
    "    return None"
   ]
  },
  {
   "cell_type": "markdown",
   "metadata": {},
   "source": [
    "Función para clasificar las monedas."
   ]
  },
  {
   "cell_type": "code",
   "execution_count": 159,
   "metadata": {},
   "outputs": [],
   "source": [
    "def clasificar_monedas(circulos, relacion_escala):\n",
    "\n",
    "    # Reset coins before classification\n",
    "    monedas_clasificadas = [0] * 8\n",
    "\n",
    "    for (x, y, r) in circulos:\n",
    "        # Calculate the real diameter of the detected coin in millimeters\n",
    "        diametro_detectado = 2 * r  # Diameter in pixels\n",
    "        diametro_real = diametro_detectado * relacion_escala\n",
    "\n",
    "        # Find the coin whose real diameter is closest to the calculated diameter\n",
    "        diferencia_minima = float('inf')\n",
    "        valor_asignado = None\n",
    "        for valor, diametro in diametros_reales.items():\n",
    "            diferencia = abs(diametro_real - diametro)\n",
    "            if diferencia < diferencia_minima:\n",
    "                diferencia_minima = diferencia\n",
    "                valor_asignado = valor\n",
    "\n",
    "        # Update the count of coins based on the assigned value\n",
    "        if valor_asignado == 0.01:\n",
    "            monedas_clasificadas[0] += 1\n",
    "        elif valor_asignado == 0.02:\n",
    "            monedas_clasificadas[1] += 1\n",
    "        elif valor_asignado == 0.05:\n",
    "            monedas_clasificadas[2] += 1\n",
    "        elif valor_asignado == 0.1:\n",
    "            monedas_clasificadas[3] += 1\n",
    "        elif valor_asignado == 0.2:\n",
    "            monedas_clasificadas[4] += 1\n",
    "        elif valor_asignado == 0.5:\n",
    "            monedas_clasificadas[5] += 1\n",
    "        elif valor_asignado == 1.0:\n",
    "            monedas_clasificadas[6] += 1\n",
    "        elif valor_asignado == 2.0:\n",
    "            monedas_clasificadas[7] += 1\n",
    "\n",
    "    # Update the global `coins` list after classification\n",
    "    global coins\n",
    "    coins = monedas_clasificadas"
   ]
  },
  {
   "cell_type": "markdown",
   "metadata": {},
   "source": [
    "Función que muestra las monedas detectadas y la relación asociada"
   ]
  },
  {
   "cell_type": "code",
   "execution_count": 160,
   "metadata": {},
   "outputs": [],
   "source": [
    "def mostrar_resultados_deteccion(coins, monedas_reales, relacion_escala):\n",
    "    nombres_monedas = [\n",
    "        \"Monedas de 1 céntimo\",\n",
    "        \"Monedas de 2 céntimos\",\n",
    "        \"Monedas de 5 céntimos\",\n",
    "        \"Monedas de 10 céntimos\",\n",
    "        \"Monedas de 20 céntimos\",\n",
    "        \"Monedas de 50 céntimos\",\n",
    "        \"Monedas de 1 euro\",\n",
    "        \"Monedas de 2 euros\"\n",
    "    ]\n",
    "    \n",
    "    print(\"Resultados de la detección de monedas:\")\n",
    "    print(\"=====================================\")\n",
    "    for i, cantidad in enumerate(coins):\n",
    "        if cantidad > 0:\n",
    "            print(f\"{nombres_monedas[i]} detectadas: {cantidad} --- reales: {monedas_reales[i]}\")\n",
    "\n",
    "    print(\"\\nNúmero de monedas detectadas: \" + str(sum(coins))+ \" ---\" + \" Número de monedas reales:\" + str(sum(monedas_reales)))\n",
    "    print(\"Relación de escala utilizada para la detección:\")\n",
    "    print(f\"Relación de escala (mm/píxeles): {relacion_escala:.4f}\")"
   ]
  },
  {
   "cell_type": "markdown",
   "metadata": {},
   "source": [
    "Función que muestra la imagen en una ventana."
   ]
  },
  {
   "cell_type": "code",
   "execution_count": 161,
   "metadata": {},
   "outputs": [],
   "source": [
    "def mostrar_imagen(imagen, monedas_reales, ancho=1100, alto=600):\n",
    "    def detectar_color_y_radio(event, x, y, flags, param):\n",
    "        if event == cv2.EVENT_LBUTTONDOWN:\n",
    "            # Get the reference coin radius (50 cents)\n",
    "            radio_referencia = obtener_radio_referencia(circulos_filtrados, (x, y))\n",
    "            if radio_referencia is not None:\n",
    "                print(f\"Reference coin radius (50 cents): {radio_referencia}\")\n",
    "\n",
    "                # Calculate the detected diameter and the scale ratio\n",
    "                diametro_detectado = 2 * radio_referencia\n",
    "                diametro_real_50c = diametros_reales[0.5]\n",
    "                relacion_escala = diametro_real_50c / diametro_detectado\n",
    "                print(f\"Scale ratio (mm/pixels): {relacion_escala}\")\n",
    "\n",
    "                # Classify the detected coins using the scale ratio\n",
    "                clasificar_monedas(circulos_filtrados, relacion_escala)\n",
    "\n",
    "                # Calculate the total money\n",
    "                total_dinero = moneyCalculate(coins)\n",
    "                total_dinero_real = moneyCalculate(monedas_reales)\n",
    "                print(f\"Total money in the image: {total_dinero:.2f} euros, Total real: {total_dinero_real:.2f}\")\n",
    "                mostrar_resultados_deteccion(coins, monedas_reales, relacion_escala)\n",
    "            else:\n",
    "                print(\"No reference coin found at the selected point.\")\n",
    "\n",
    "    # Create a fixed size window\n",
    "    cv2.namedWindow(\"Imagen con Fondo Blanco\", cv2.WINDOW_NORMAL)\n",
    "    cv2.resizeWindow(\"Imagen con Fondo Blanco\", ancho, alto)\n",
    "\n",
    "    # Assign the callback for the click event\n",
    "    cv2.setMouseCallback(\"Imagen con Fondo Blanco\", detectar_color_y_radio)\n",
    "\n",
    "    # Show the image in the window\n",
    "    cv2.imshow(\"Imagen con Fondo Blanco\", imagen)\n",
    "    cv2.waitKey(0)\n",
    "    cv2.destroyAllWindows()"
   ]
  },
  {
   "cell_type": "markdown",
   "metadata": {},
   "source": [
    "Función que permite manejar mejor los datos de entrada."
   ]
  },
  {
   "cell_type": "code",
   "execution_count": 162,
   "metadata": {},
   "outputs": [],
   "source": [
    "def ejecutar(imagen, monedas_reales):\n",
    "\n",
    "    imagen_con_fondo_blanco = convertir_fondo_a_blanco(imagen)\n",
    "    circulos_detectados  = detectar_circulos(imagen_con_fondo_blanco)\n",
    "\n",
    "    # Filtrado doradas\n",
    "    circulos_filtrados.extend(filtrar_por_color(imagen_con_fondo_blanco, circulos_detectados, (20, 0, 0), (180, 170, 255)))\n",
    "    # Filtrado cobrizas\n",
    "    circulos_filtrados.extend(filtrar_por_color(imagen_con_fondo_blanco, circulos_detectados, (9, 79, 38), (19, 220, 255)))\n",
    "\n",
    "    imagen_con_circulos = superponer_circulos(imagen, circulos_filtrados)\n",
    "\n",
    "    mostrar_imagen(imagen_con_circulos, monedas_reales)\n"
   ]
  },
  {
   "cell_type": "code",
   "execution_count": 166,
   "metadata": {},
   "outputs": [
    {
     "name": "stdout",
     "output_type": "stream",
     "text": [
      "Reference coin radius (50 cents): 84\n",
      "Scale ratio (mm/pixels): 0.14434523809523808\n",
      "Total money in the image: 4.07 euros, Total real: 3.01\n",
      "Resultados de la detección de monedas:\n",
      "=====================================\n",
      "Monedas de 1 céntimo detectadas: 3 --- reales: 3\n",
      "Monedas de 2 céntimos detectadas: 2 --- reales: 4\n",
      "Monedas de 5 céntimos detectadas: 4 --- reales: 2\n",
      "Monedas de 10 céntimos detectadas: 1 --- reales: 1\n",
      "Monedas de 20 céntimos detectadas: 1 --- reales: 1\n",
      "Monedas de 50 céntimos detectadas: 1 --- reales: 1\n",
      "Monedas de 1 euro detectadas: 1 --- reales: 2\n",
      "Monedas de 2 euros detectadas: 1 --- reales: 0\n",
      "\n",
      "Número de monedas detectadas: 14 --- Número de monedas reales:14\n",
      "Relación de escala utilizada para la detección:\n",
      "Relación de escala (mm/píxeles): 0.1443\n"
     ]
    }
   ],
   "source": [
    "ejecutar(imagen_p2,monedas_p2)\n",
    "coins = [0] * 8\n",
    "circulos_filtrados = []"
   ]
  }
 ],
 "metadata": {
  "kernelspec": {
   "display_name": "VC_P1",
   "language": "python",
   "name": "python3"
  },
  "language_info": {
   "codemirror_mode": {
    "name": "ipython",
    "version": 3
   },
   "file_extension": ".py",
   "mimetype": "text/x-python",
   "name": "python",
   "nbconvert_exporter": "python",
   "pygments_lexer": "ipython3",
   "version": "3.11.5"
  }
 },
 "nbformat": 4,
 "nbformat_minor": 2
}
