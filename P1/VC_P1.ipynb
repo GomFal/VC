{
 "cells": [
  {
   "cell_type": "markdown",
   "metadata": {},
   "source": [
    "Paquetes necesarios"
   ]
  },
  {
   "cell_type": "code",
   "execution_count": 2,
   "metadata": {},
   "outputs": [],
   "source": [
    "import cv2  \n",
    "import numpy as np\n",
    "import matplotlib.pyplot as plt"
   ]
  },
  {
   "cell_type": "markdown",
   "metadata": {},
   "source": [
    "TAREA 1: Crea una imagen, p.e. de 800x800 píxeles, con la textura del tablero de ajedrez"
   ]
  },
  {
   "cell_type": "code",
   "execution_count": 4,
   "metadata": {},
   "outputs": [
    {
     "name": "stdout",
     "output_type": "stream",
     "text": [
      "(800, 800, 3)\n"
     ]
    },
    {
     "data": {
      "image/png": "[encoded data removed]",
      "text/plain": [
       "<Figure size 640x480 with 1 Axes>"
      ]
     },
     "metadata": {},
     "output_type": "display_data"
    }
   ],
   "source": [
    "# Create an image with three color channels (RGB)\n",
    "color_img = np.zeros((800, 800, 3), dtype=np.uint8)\n",
    "\n",
    "# Set the entire image to white (255 in all color channels)\n",
    "color_img[0:800, 0:800] = 255 # The third index specifies the color channel (0-2)\n",
    "\n",
    "# Draw black squares in a grid pattern\n",
    "for i in range(0, 800, 200):\n",
    "    for j in range(0, 800, 200):\n",
    "        # Fill a 100x100 pixel square with black (0 in all color channels)\n",
    "        color_img[i:i+100, j:j+100] = 0 # The third index specifies the color channel (0-2)\n",
    "\n",
    "# Draw black squares in a staggered grid pattern\n",
    "for i in range(100, 800, 200):\n",
    "    for j in range(100, 800, 200):\n",
    "        # Fill a 100x100 pixel square with black (0 in all color channels)\n",
    "        color_img[i:i+100, j:j+100] = 0 # The third index specifies the color channel (0-2)\n",
    "\n",
    "# Print the dimensions of the image (should be (800, 800, 3))\n",
    "print(color_img.shape)\n",
    "\n",
    "# Display the image using matplotlib (without specifying a color map)\n",
    "plt.imshow(color_img) \n",
    "plt.title(\"Tablero de Ajedrez\")\n",
    "cv2.imwrite('tablero.jpg', color_img)\n",
    "plt.show()\n"
   ]
  },
  {
   "cell_type": "markdown",
   "metadata": {},
   "source": [
    "TAREA 2: Crear una imagen estilo Mondrian"
   ]
  },
  {
   "cell_type": "code",
   "execution_count": 5,
   "metadata": {},
   "outputs": [
    {
     "data": {
      "image/png": "[encoded data removed]",
      "text/plain": [
       "<Figure size 640x480 with 1 Axes>"
      ]
     },
     "metadata": {},
     "output_type": "display_data"
    },
    {
     "data": {
      "text/plain": [
       "True"
      ]
     },
     "execution_count": 5,
     "metadata": {},
     "output_type": "execute_result"
    }
   ],
   "source": [
    "# Define parameters\n",
    "width_task2 = 800\n",
    "height_task2 = 800\n",
    "line_thickness = 15\n",
    "line_margin = int(line_thickness / 2)\n",
    "error = 1\n",
    "\n",
    "# Create an image with three color channels\n",
    "color_img = np.zeros((width_task2, height_task2, 3), dtype=np.uint8)\n",
    "\n",
    "# Set the background to white\n",
    "color_img[0:800, 0:800] = 255\n",
    "\n",
    "# Draw horizontal lines\n",
    "cv2.line(color_img,\n",
    "         (0, int(width_task2 / 3)),\n",
    "         (int(width_task2), int(height_task2 / 3)),\n",
    "         (0, 0, 0), line_thickness)\n",
    "cv2.line(color_img,\n",
    "         (0, int(2 * width_task2 / 3)),\n",
    "         (int(width_task2) - int(width_task2 / 10), int(2 * height_task2 / 3)),\n",
    "         (0, 0, 0), line_thickness)\n",
    "cv2.line(color_img,\n",
    "         (int(width_task2 / 16), height_task2 - int((height_task2 / 3) / 2)),\n",
    "         (int(width_task2), height_task2 - int((height_task2 / 3) / 2)),\n",
    "         (0, 0, 0), line_thickness)\n",
    "\n",
    "# Draw vertical lines for the 1st row\n",
    "cv2.line(color_img,\n",
    "         (int(width_task2 / 16), 0),\n",
    "         (int(width_task2 / 16), height_task2),\n",
    "         (0, 0, 0), line_thickness)\n",
    "cv2.line(color_img,\n",
    "         (int(3 * width_task2 / 16), 0),\n",
    "         (int(3 * width_task2 / 16), height_task2),\n",
    "         (0, 0, 0), line_thickness)\n",
    "cv2.line(color_img,\n",
    "         (int(7 * width_task2 / 16), 0),\n",
    "         (int(7 * width_task2 / 16), int(2 * height_task2 / 3)),\n",
    "         (0, 0, 0), line_thickness)\n",
    "cv2.line(color_img,\n",
    "         (int(13 * width_task2 / 16), 0),\n",
    "         (int(13 * width_task2 / 16), height_task2 - int((height_task2 / 3) / 2)),\n",
    "         (0, 0, 0), line_thickness)\n",
    "cv2.line(color_img,\n",
    "         (int(14.5 * width_task2 / 16), 0),\n",
    "         (int(14.5 * width_task2 / 16), height_task2),\n",
    "         (0, 0, 0), line_thickness)\n",
    "\n",
    "# Draw vertical lines for the 2nd row\n",
    "cv2.line(color_img,\n",
    "         (int(9 * width_task2 / 16), int(height_task2 / 3)),\n",
    "         (int(9 * width_task2 / 16), height_task2),\n",
    "         (0, 0, 0), line_thickness)\n",
    "\n",
    "# Draw rectangles for the 1st row\n",
    "cv2.rectangle(color_img,\n",
    "              (int(width_task2 / 16) + line_margin, 0),\n",
    "              (int(3 * width_task2 / 16) - line_margin, int(height_task2 / 3) - line_margin),\n",
    "              (255, 255, 0), -1)\n",
    "cv2.rectangle(color_img,\n",
    "              (int(3 * width_task2 / 16) + line_margin, 0),\n",
    "              (int(7 * width_task2 / 16) - line_margin - error, int(height_task2 / 3) - line_margin),\n",
    "              (0, 0, 255), -1)\n",
    "cv2.rectangle(color_img,\n",
    "              (int(7 * width_task2 / 16) + line_margin + error, 0),\n",
    "              (int(13 * width_task2 / 16) - line_margin, int(height_task2 / 3) - line_margin),\n",
    "              (255, 0, 0), -1)\n",
    "cv2.rectangle(color_img,\n",
    "              (int(13 * width_task2 / 16) + line_margin, 0),\n",
    "              (int(14.5 * width_task2 / 16) - line_margin, int(height_task2 / 3) - line_margin),\n",
    "              (255, 255, 0), -1)\n",
    "\n",
    "# Draw rectangles for the 2nd row\n",
    "cv2.rectangle(color_img,\n",
    "              (int(9 * width_task2 / 16) + line_margin, int(height_task2 / 3) + line_margin),\n",
    "              (int(13 * width_task2 / 16) - line_margin, int(2 * height_task2 / 3) - line_margin),\n",
    "              (0, 0, 255), -1)\n",
    "cv2.rectangle(color_img,\n",
    "              (int(13 * width_task2 / 16) + line_margin, int(height_task2 / 3) + line_margin),\n",
    "              (int(14.5 * width_task2 / 16) - line_margin, int(2 * height_task2 / 3) - line_margin),\n",
    "              (255, 0, 0), -1)\n",
    "\n",
    "# Draw rectangles for the 3rd row\n",
    "cv2.rectangle(color_img,\n",
    "              (int(3 * width_task2 / 16) + line_margin, int(2 * height_task2 / 3) + line_margin),\n",
    "              (int(9 * width_task2 / 16) - line_margin, height_task2 - int((height_task2 / 3) / 2) - line_margin),\n",
    "              (255, 0, 0), -1)\n",
    "cv2.rectangle(color_img,\n",
    "              (int(13 * width_task2 / 16) + line_margin, int(2 * height_task2 / 3) + line_margin),\n",
    "              (int(14.5 * width_task2 / 16) - line_margin, height_task2 - int((height_task2 / 3) / 2) - line_margin),\n",
    "              (255, 255, 0), -1)\n",
    "\n",
    "# Draw rectangles for the 4th row\n",
    "cv2.rectangle(color_img,\n",
    "              (int(width_task2 / 16) + line_margin, height_task2 - int((height_task2 / 3) / 2) + line_margin),\n",
    "              (int(3 * width_task2 / 16) - line_margin, height_task2),\n",
    "              (0, 0, 255), -1)\n",
    "cv2.rectangle(color_img,\n",
    "              (int(3 * width_task2 / 16) + line_margin, height_task2 - int((height_task2 / 3) / 2) + line_margin),\n",
    "              (int(9 * width_task2 / 16) - line_margin, height_task2),\n",
    "              (255, 255, 0), -1)\n",
    "\n",
    "# Display the image without specifying a color map\n",
    "plt.imshow(color_img) \n",
    "plt.show()\n",
    "\n",
    "# Save the resulting image to disk\n",
    "cv2.imwrite('imagen.jpg', color_img)\n"
   ]
  },
  {
   "cell_type": "markdown",
   "metadata": {},
   "source": [
    "TAREA 3: Resuelve una de las tareas previas (a elegir) con las funciones de dibujo de OpenCV  :)"
   ]
  },
  {
   "cell_type": "code",
   "execution_count": 5,
   "metadata": {},
   "outputs": [
    {
     "data": {
      "image/png": "[encoded data removed]",
      "text/plain": [
       "<Figure size 640x480 with 1 Axes>"
      ]
     },
     "metadata": {},
     "output_type": "display_data"
    }
   ],
   "source": [
    "# Define the dimensions of the chessboard\n",
    "tablero = 8  # Number of squares in each row/column\n",
    "cuadro = 100  # Size of each square in pixels\n",
    "\n",
    "# Create a blank black image with 3 color channels (RGB)\n",
    "# The size is (tablero * cuadro) x (tablero * cuadro) to accommodate the full chessboard\n",
    "color_img = np.zeros((tablero*cuadro, cuadro*tablero, 3), dtype=np.uint8)\n",
    "\n",
    "# Iterate through each square of the chessboard\n",
    "for i in range(tablero):\n",
    "    for k in range(tablero):\n",
    "        # Check if the square should be white\n",
    "        # (i+k) % 2 == 0 creates the alternating pattern of a chessboard\n",
    "        if (i+k) % 2 == 0:\n",
    "            # Draw a white rectangle (square) at the appropriate position\n",
    "            # The position is calculated based on the current indices (i, k) and the size of each square\n",
    "            # The color (255,255,255) represents white in RGB\n",
    "            # The -1 parameter fills the rectangle\n",
    "            cv2.rectangle(color_img, (i*cuadro, k*cuadro), ((i+1)*cuadro, (k+1)*cuadro), (255,255,255), -1)\n",
    "\n",
    "# Display the resulting chessboard image\n",
    "plt.imshow(color_img)\n",
    "plt.title('Tablero de Ajedrez')\n",
    "cv2.imwrite('tablero_opencv.jpg', color_img)\n",
    "plt.show()\n",
    "\n"
   ]
  },
  {
   "cell_type": "markdown",
   "metadata": {},
   "source": [
    "TAREA 4: Modifica de forma libre los valores de un plano de la imagen"
   ]
  },
  {
   "cell_type": "code",
   "execution_count": 9,
   "metadata": {},
   "outputs": [],
   "source": [
    "vid = cv2.VideoCapture(0)\n",
    "  \n",
    "while(True):      \n",
    "    # frame by frame\n",
    "    ret, frame = vid.read()\n",
    "\n",
    "    if ret:\n",
    "        # Separate channels\n",
    "        b = frame[:,:,0]\n",
    "        g = frame[:,:,1]\n",
    "        r = frame[:,:,2]\n",
    "        \n",
    "        # Modify a fragment of the blue channel with value 1 (black)\n",
    "        b[0:100,25:180] = 1    \n",
    "\n",
    "        # Input image dimensions\n",
    "        h, w, c = frame.shape\n",
    "\n",
    "        # Concatenate the three planes of the frame horizontally\n",
    "        collage = np.hstack((r, g, b))\n",
    "    \n",
    "        # Show frame resized to half for it to fit on screen\n",
    "        cv2.imshow('RGB', cv2.resize(collage, (int(w*1.5),int(h/2)),cv2.INTER_NEAREST))\n",
    "    \n",
    "    # Stop when ESC is pressed\n",
    "    if cv2.waitKey(20) == 27:\n",
    "        break\n",
    "  \n",
    "# Release the capture object\n",
    "vid.release()\n",
    "# Destroy windows\n",
    "cv2.destroyAllWindows()"
   ]
  },
  {
   "cell_type": "markdown",
   "metadata": {},
   "source": [
    "TAREA 5.1:\n",
    "Pintar círculos en las posiciones del píxel más claro y oscuro de la imagen "
   ]
  },
  {
   "cell_type": "code",
   "execution_count": 6,
   "metadata": {},
   "outputs": [],
   "source": [
    "vid = cv2.VideoCapture(0)\n",
    "\n",
    "if not vid.isOpened():\n",
    "    print(\"Error: Could not open camera.\")\n",
    "    exit()\n",
    "\n",
    "while True:\n",
    "    ret, frame = vid.read()\n",
    "    \n",
    "\n",
    "    # Convert to grayscale to avoid RGB conversion when calculating the minimum and maximum pixel.\n",
    "    gray = cv2.cvtColor(frame, cv2.COLOR_BGR2GRAY)\n",
    "\n",
    "    '''\n",
    "    The argmin() function returns the index of the smallest value in the array\n",
    "    (2-dimensional in this case) passed as a parameter.\n",
    "    The index returned by argmin() is one-dimensional, so the unravel_index() function\n",
    "    must be applied. It takes the one-dimensional index and the image size as parameters.\n",
    "    unravel_index() returns the 2D coordinates of that index.\n",
    "    '''\n",
    "    \n",
    "    min_location = np.unravel_index(np.argmin(gray), gray.shape)\n",
    "    max_location = np.unravel_index(np.argmax(gray), gray.shape)\n",
    "\n",
    "\n",
    "    # Draw circles around the brightest and darkest pixels\n",
    "    cv2.circle(frame, max_location[::-1], 10, (0,0,0), 2)  # Black circle for brightest\n",
    "    cv2.circle(frame, min_location[::-1], 10, (255,255,255), 2)        # White circle for darkest\n",
    "\n",
    "    cv2.imshow('Image with circles', frame)\n",
    "\n",
    "    # Stop when ESC is pressed or window is closed\n",
    "    if cv2.waitKey(20) == 27:\n",
    "        break\n",
    "\n",
    "vid.release()\n",
    "cv2.destroyAllWindows()"
   ]
  },
  {
   "cell_type": "markdown",
   "metadata": {},
   "source": [
    "TAREA 5.2: ¿Si quisieras hacerlo sobre la zona 8x8 más clara/oscura?"
   ]
  },
  {
   "cell_type": "code",
   "execution_count": 7,
   "metadata": {},
   "outputs": [],
   "source": [
    "\n",
    "\n",
    "vid = cv2.VideoCapture(0)\n",
    "\n",
    "# If the camera can´t be opened displays an error\n",
    "if not vid.isOpened():\n",
    "    print(\"Error: Could not open camera.\")\n",
    "    exit()\n",
    "    \n",
    "\n",
    "\n",
    "def find_extreme_zone(img, size, mode='max'):\n",
    "    '''\n",
    "    Function to find the brightest or darkest zone in an image\n",
    "    Parameters:\n",
    "    - img: input grayscale image\n",
    "    - size: size of the zone to search (e.g., 8 for 8x8)\n",
    "    - mode: 'max' for brightest, 'min' for darkest\n",
    "    '''\n",
    "\n",
    "    h, w = img.shape  # Get the height and width of the image\n",
    "    \n",
    "    # Initialize the extreme sum based on the mode\n",
    "    extreme_sum = float('-inf') if mode == 'max' else float('inf')\n",
    "    extreme_pos = None  # Variable to store the position of the extreme zone\n",
    "    \n",
    "    # Iterate through the image, leaving a margin of 'size' pixels\n",
    "    for y in range(h - size - 1):\n",
    "        for x in range(w - size - 1):\n",
    "            # Calculate the sum of pixel values in the current window\n",
    "            window_sum = np.sum(img[y:y+size, x:x+size])\n",
    "            \n",
    "            # Update extreme_sum and extreme_pos if a new extreme is found\n",
    "            if (mode == 'max' and window_sum > extreme_sum) or (mode == 'min' and window_sum < extreme_sum):\n",
    "                extreme_sum = window_sum\n",
    "                extreme_pos = (x, y)\n",
    "    \n",
    "    # Return the position of the extreme zone\n",
    "    return extreme_pos  \n",
    "\n",
    "while True:\n",
    "    ret, frame = vid.read()\n",
    "    \n",
    "\n",
    "    gray = cv2.cvtColor(frame, cv2.COLOR_BGR2GRAY)\n",
    "\n",
    "    # Find brightest and darkest 8x8 zones\n",
    "    brightest_zone = find_extreme_zone(gray, 8, 'max')\n",
    "    darkest_zone = find_extreme_zone(gray, 8, 'min')\n",
    "\n",
    "    # Draw rectangles around the brightest and darkest zones\n",
    "    cv2.rectangle(frame, brightest_zone, (brightest_zone[0]+8, brightest_zone[1]+8), (0,255,0), 2)\n",
    "    cv2.rectangle(frame, darkest_zone, (darkest_zone[0]+8, darkest_zone[1]+8), (0,0,255), 2)\n",
    "\n",
    "   \n",
    "    \n",
    "\n",
    "    cv2.imshow('Image with zones', frame)\n",
    "\n",
    "    if cv2.waitKey(20) == 27:  \n",
    "        break\n",
    "\n",
    "vid.release()\n",
    "cv2.destroyAllWindows()"
   ]
  },
  {
   "cell_type": "markdown",
   "metadata": {},
   "source": [
    "TAREA 6: Llevar a cabo una propuesta propia de pop art"
   ]
  },
  {
   "cell_type": "code",
   "execution_count": 8,
   "metadata": {},
   "outputs": [],
   "source": [
    "vid = cv2.VideoCapture(0)\n",
    "\n",
    "# Camera dimensions\n",
    "w = int(vid.get(cv2.CAP_PROP_FRAME_WIDTH))\n",
    "h = int(vid.get(cv2.CAP_PROP_FRAME_HEIGHT))\n",
    "\n",
    "# Force half resolution to occupy less screen space\n",
    "w = int(w/2)\n",
    "h = int(h/2)\n",
    "# Set the new dimensions for the video capture\n",
    "vid.set(cv2.CAP_PROP_FRAME_WIDTH, w)\n",
    "vid.set(cv2.CAP_PROP_FRAME_HEIGHT, h)\n",
    "\n",
    "# Combined image 5x original (horizontal)\n",
    "collage = np.zeros((h, w*5, 3), dtype=np.uint8)\n",
    "\n",
    "# Define a list of colors for the gradient effect (in BGR format)\n",
    "# The gradient transitions from yellow to red\n",
    "colors = [\n",
    "    (0, 255, 255),  # Yellow\n",
    "    (0, 191, 255),  # Yellow-Orange\n",
    "    (0, 127, 255),  # Orange\n",
    "    (0, 64, 255),   # Red-Orange\n",
    "    (0, 0, 255)     # Red\n",
    "]\n",
    "\n",
    "while True:\n",
    "    # Frame by frame\n",
    "    ret, frame = vid.read()\n",
    "\n",
    "    if ret:  # If frame is successfully captured\n",
    "        # Resize the frame to match our desired dimensions\n",
    "        # INTER_NEAREST is used for faster processing, though it may reduce quality (Lineal Interpolation)\n",
    "        frame = cv2.resize(frame, (w, h), cv2.INTER_NEAREST)\n",
    "\n",
    "        # Create 5 color variations of the frame\n",
    "        for i in range(5):\n",
    "\n",
    "            '''\n",
    "            Apply a color tint to the frame\n",
    "            addWeighted is used to blend the original frame with the color tint\n",
    "            -frame is the original frame\n",
    "            -0.6 is the weight of the original frame\n",
    "            -np.full_like(frame, colors[i]) creates an array of the same shape as the frame, filled with the color value\n",
    "            -0.4 is the weight of the color tint\n",
    "            '''\n",
    "\n",
    "            tinted = cv2.addWeighted(frame, 0.6, np.full_like(frame, colors[i]), 0.4, 0)\n",
    "            \n",
    "            # Place the tinted frame in its corresponding position in the collage\n",
    "            collage[:, i*w:(i+1)*w] = tinted\n",
    "\n",
    "        # Display the final collage with all color variations\n",
    "        cv2.imshow('Color Gradient', collage)\n",
    "    \n",
    "    # Stop when ESC is pressed\n",
    "    if cv2.waitKey(20) == 27:\n",
    "        break\n",
    "\n",
    "# Clean up: release the video capture object\n",
    "vid.release()\n",
    "# Destroy windows\n",
    "cv2.destroyAllWindows()"
   ]
  }
 ],
 "metadata": {
  "kernelspec": {
   "display_name": "Python 3.7.3 ('FACES')",
   "language": "python",
   "name": "python3"
  },
  "language_info": {
   "codemirror_mode": {
    "name": "ipython",
    "version": 3
   },
   "file_extension": ".py",
   "mimetype": "text/x-python",
   "name": "python",
   "nbconvert_exporter": "python",
   "pygments_lexer": "ipython3",
   "version": "3.11.9"
  },
  "orig_nbformat": 4,
  "vscode": {
   "interpreter": {
    "hash": "ea3a1ee99ce326e593ddb52cd278556d527fcb6552c40e2a47b1efb9d0183637"
   }
  }
 },
 "nbformat": 4,
 "nbformat_minor": 2
}
